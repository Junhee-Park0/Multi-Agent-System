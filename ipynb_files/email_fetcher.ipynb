{
 "cells": [
  {
   "cell_type": "code",
   "execution_count": 1,
   "id": "c0e5fb07",
   "metadata": {},
   "outputs": [
    {
     "data": {
      "text/plain": [
       "True"
      ]
     },
     "execution_count": 1,
     "metadata": {},
     "output_type": "execute_result"
    }
   ],
   "source": [
    "from dotenv import load_dotenv\n",
    "load_dotenv(\"../.env\")"
   ]
  },
  {
   "cell_type": "code",
   "execution_count": 2,
   "id": "dc0e5eec",
   "metadata": {},
   "outputs": [],
   "source": [
    "import os\n",
    "project_root = os.path.dirname(os.path.abspath(os.getcwd()))\n",
    "os.chdir(project_root)"
   ]
  },
  {
   "cell_type": "code",
   "execution_count": 3,
   "id": "c47c3d88",
   "metadata": {},
   "outputs": [],
   "source": [
    "# tools : get_emails, parse_emails\n",
    "from tools.api_tools import get_emails, parse_emails\n",
    "# schemas : EmailItem, ParsedQuery, EmailFetchInput, EmailFetchOutput, EmailFetchOutputs, UserChoice\n",
    "from py_files.schemas import EmailItem, ParsedQuery, EmailFetchInput, EmailFetchOutput, UserChoice"
   ]
  },
  {
   "cell_type": "code",
   "execution_count": 27,
   "id": "132bf925",
   "metadata": {},
   "outputs": [],
   "source": [
    "import yaml\n",
    "from datetime import datetime\n",
    "# prompts\n",
    "def load_prompts(name : str):\n",
    "    with open(\"prompts/prompts.yaml\", \"r\") as f:\n",
    "        prompts = yaml.safe_load(f)\n",
    "        \n",
    "    prompt = prompts[name]\n",
    "\n",
    "    if name == \"fetching_email_prompt\":\n",
    "        today_date = datetime.now().strftime(\"%Y-%m-%d\")\n",
    "        prompt[\"instructions\"] = prompt[\"instructions\"].format(today_date = today_date)\n",
    "        \n",
    "    return prompt\n"
   ]
  },
  {
   "cell_type": "code",
   "execution_count": null,
   "id": "ef628cc4",
   "metadata": {},
   "outputs": [],
   "source": [
    "# state는 잘 모르겠다..\n",
    "from typing import TypedDict\n",
    "\n",
    "class EmailAgentState(TypedDict, total = False):\n",
    "    query : str\n",
    "    top_k : int\n",
    "    emails : List[EmailItem]\n",
    "    fetched_emails : List[EmailFetchOutput]\n",
    "    selected_ids : List[str]\n",
    "    # status : Literal[\"INITIAL\", \"FETCHED\", \"AWAIT_USER_CONFIRM\", \"CONFIRMED\", \"ERROR\"]\n",
    "    error : Optional[str]"
   ]
  },
  {
   "cell_type": "code",
   "execution_count": 5,
   "id": "a1529ea0",
   "metadata": {},
   "outputs": [
    {
     "name": "stdout",
     "output_type": "stream",
     "text": [
      "Chat messages : \n",
      "- subject: 이번 주 미팅 일정 | sender: \"박준희\" <jhpark0256@naver.com>\n",
      "| id: 1998aa39fff81eac | Snippet: 혹시 이번 주 중으로 온라인 미팅이 가능할까요? 화요일 오후나 목요일 오전이 편할 것 같습니다.\n",
      "- subject: 내일까지 해야할 일 안내드립니다. | sender: \"박준희\" <jhpark0256@naver.com>\n",
      "| id: 1998a2c2ff890124 | Snippet: 내일까지 Gmail Responder Agent의 기초 틀을 마련해주세요. 최소한 구현해야 하는 기능은 다음과 같습니다: 1. 전체 이메일을 로드 2. 그중 원하는 이메일을 선택 3. 그에 대한 답변을 작성 4. 자동으로 전송 내일까지 구현 바랍니다.\n",
      "- subject: 안녕하세용 | sender: \"박준희\" <jhpark0256@naver.com>\n",
      "| id: 19984a9d489f5afe | Snippet: 이게 정말 되는 걸까?!?!?\n",
      "- subject: Now shipped: Cursor CLI | sender: Michael from Cursor <michael@mail.cursor.com>\n",
      "| id: 1998420b87172291 | Snippet: Cursor CLI is now available - code from anywhere ‌​‍‎‏﻿ ‌​‍‎‏﻿ ‌​‍‎‏﻿ ‌​‍‎‏﻿ ‌​‍‎‏﻿ ‌​‍‎‏﻿ ‌​‍‎‏﻿ ‌​‍‎‏﻿ ‌​‍‎‏﻿ ‌​‍‎‏﻿ ‌​‍‎‏﻿ ‌​‍‎‏﻿ ‌​‍‎‏﻿ ‌​‍‎‏﻿ ‌​‍‎‏﻿ ‌​‍‎‏﻿ ‌​‍‎‏﻿ ‌​‍‎‏﻿ ‌​‍‎‏﻿ ‌​‍‎‏﻿ ‌​‍‎‏﻿ ‌​‍‎‏\n",
      "- subject: [Notice] Enjoy new benefits with additional pricing options from October 1 | sender: Upstage Console <console@upstage.ai>\n",
      "| id: 19983a881d374778 | Snippet: Starting October 1, we&#39;re introducing a new commitment system with bonus credits and rate limit upgrades. Current prepaid options end September 30.‌ ‌ ‌ ‌ ‌ ‌ ‌ ‌ ‌ ‌ ‌ ‌ ‌ ‌ ‌ ‌ ‌ ‌ ‌ ‌ ‌ ‌ ‌ ‌ ‌\n",
      "- subject: Stop Wasting Hours on Broken Python Setups | sender: Anaconda <anaconda@try.anaconda.com>\n",
      "| id: 1998280b7ad2a754 | Snippet: Discover faster environment management, hands-on certifications, and insights from the Python community. SEPTEMBER 2025 Numerically Speaking Your monthly Python power-up There&#39;s More Than Python in\n",
      "- subject: [지그재그] 주문해주셔서 감사합니다. | sender: \"지그재그\" <support@zigzag.kr>\n",
      "| id: 1997f92825196716 | Snippet: zigzag logo 주문 내역을 확인해주세요. 주문번호 139437661720969006 주문일자 2025.09.25 주문 상품 정보 블림핏 #세일 [16만장돌파👖/XS-L] [MADE] 블림진 오버핏 딥 브러쉬 롱 와이드 데님 팬츠 (기장선택) 19800원 그레이시중청 / S / 롱 / 1 09.30(화) 이내 발송 예정 블림핏 #세일 [16만장돌파👖/\n",
      "- subject: ⏰ Final call—students save 50% on Pro | sender: Grammarly <hello@mail.grammarly.com>\n",
      "| id: 1997baa4b4565fe8 | Snippet: Stay ahead with Pro. All semester. Half the price. ‌ ‌ ‌ ‌ ‌ ‌ ‌ ‌ ‌ ‌ ‌ ‌ ‌ ‌ ‌ ‌ ‌ ‌ ‌ ‌ ‌ ‌ ‌ ‌ ‌ ‌ ‌ ‌ ‌ ‌ ‌ ‌ ‌ ‌ ‌ ‌ ‌ ‌ ‌ ‌ ‌ ‌ ‌ ‌ ‌ ‌ ‌ ‌ ‌ ‌ ‌ ‌ ‌ ‌ ‌ ‌ ‌ ‌ ‌ ‌ ‌ ‌ ‌ ‌ ‌ ‌ ‌ ‌ ‌ ‌ ‌ ‌ ‌ ‌ ‌\n",
      "- subject: ✨ Unveil your stats + 50% off any Pro plan! | sender: Grammarly Insights <hello@mail.grammarly.com>\n",
      "| id: 199780566716a575 | Snippet: There wasn&#39;t any writing activity last week. ‌ ‌ ‌ ‌ ‌ ‌ ‌ ‌ ‌ ‌ ‌ ‌ ‌ ‌ ‌ ‌ ‌ ‌ ‌ ‌ ‌ ‌ ‌ ‌ ‌ ‌ ‌ ‌ ‌ ‌ ‌ ‌ ‌ ‌ ‌ ‌ ‌ ‌ ‌ ‌ ‌ ‌ ‌ ‌ ‌ ‌ ‌ ‌ ‌ ‌ ‌ ‌ ‌ ‌ ‌ ‌ ‌ ‌ ‌ ‌ ‌ ‌ ‌ ‌ ‌ ‌ ‌ ‌ ‌ ‌ ‌ ‌ ‌ ‌ ‌ ‌\n",
      "- subject: Unprecedented clearance sale | sender: SHEIN <shein@email.us.shein.com>\n",
      "| id: 19975780f8a6838e | Snippet: Don&#39;t miss this chance! ‌ ‌ ‌ ‌ ‌ ‌ ‌ ‌ ‌ ‌ ‌ ‌ ‌ ‌ ‌ ‌ ‌ ‌ ‌ ‌ ‌ ‌ ‌ ‌ ‌ ‌ ‌ ‌ ‌ ‌ ‌ ‌ ‌ ‌ ‌ ‌ ‌ ‌ ‌ ‌ ‌ ‌ ‌ ‌ ‌ ‌ ‌ ‌ ‌ ‌ ‌ ‌ ‌ ‌ ‌ ‌ ‌ ‌ ‌ ‌ ‌ ‌ ‌ ‌ ‌ ‌ ‌ ‌ ‌ ‌ ‌ ‌ ‌ ‌ ‌ ‌ ‌ ‌ ‌ ‌ ‌ ‌ ‌ ‌ ‌ ‌ ‌\n",
      "- subject: Welcome to the Ambient Agents with LangGraph Course! | sender: LangChain Academy <noreply@notify.thinkific.com>\n",
      "| id: 1997533de9a58cd0 | Snippet: Welcome to our Ambient Agents with LangGraph course! Most agents today operate through chat interfaces, handling one request at a time. But as models have improved, agents can now run in the background\n",
      "- subject: Welcome to Cursor! | sender: Cursor <hi@cursor.com>\n",
      "| id: 19970285809e92d8 | Snippet: Hi 준희, Cursor is now active! Here are a few ways to get started: - Start typing and, when an autocomplete suggestion appears, press Tab to accept it - Highlight a selection of code and press Cmd/Ctrl+K\n",
      "- subject: ⏳ Ending soon—get 50% off Grammarly Pro | sender: Grammarly <hello@mail.grammarly.com>\n",
      "| id: 1996c379a97a0a20 | Snippet: Don&#39;t miss out on your grade glow-up. ‌ ‌ ‌ ‌ ‌ ‌ ‌ ‌ ‌ ‌ ‌ ‌ ‌ ‌ ‌ ‌ ‌ ‌ ‌ ‌ ‌ ‌ ‌ ‌ ‌ ‌ ‌ ‌ ‌ ‌ ‌ ‌ ‌ ‌ ‌ ‌ ‌ ‌ ‌ ‌ ‌ ‌ ‌ ‌ ‌ ‌ ‌ ‌ ‌ ‌ ‌ ‌ ‌ ‌ ‌ ‌ ‌ ‌ ‌ ‌ ‌ ‌ ‌ ‌ ‌ ‌ ‌ ‌ ‌ ‌ ‌ ‌ ‌ ‌ ‌ ‌ ‌ ‌ ‌ ‌\n",
      "- subject: 일회용 코드 | sender: \"Microsoft 계정 팀\" <account-security-noreply@accountprotection.microsoft.com>\n",
      "| id: 1996ba7aed95e135 | Snippet: 안녕하세요 jhpark0256@gmail.com 님, Microsoft 계정에 사용할 일회용 코드에 대한 요청을 받았습니다. 일회용 코드: 039249 공식 웹 사이트 또는 앱에서만 이 코드를 입력합니다. 다른 사용자와 공유하지 마세요. 공식 플랫폼 외부에서는 절대로 요청하지 않습니다. 감사합니다. Microsoft 계정 팀 개인정보취급방침: https://\n",
      "- subject: Apple에서 발행한 영수증입니다. | sender: Apple <no_reply@email.apple.com>\n",
      "| id: 1996a9be7752a317 | Snippet: 영수증 2025년 9월 20일 주문 ID: MV6LQ6SQG9 문서: 740024688912 Apple 계정: jhpark0256@gmail.com iCloud 200GB가 포함된 iCloud+(월간) 2025년 10월 21일에 갱신 예정 ₩3300 ₩300의 부가가치세(VAT) 포함 청구 및 지불 박준희 대한민국 서울 서울시 강남구 삼성로 51길 25\n",
      "- subject: (6/6) Monitor Your App’s Performance with LangSmith Dashboards 📊 | sender: \"Robert @ LangChain\" <noreply@langchain.com>\n",
      "| id: 19965ec354c171c2 | Snippet: Once your agent is live, you&#39;ll need to monitor its real-world performance for issues. LangSmith&#39;s dashboards allow you to track key metrics like success rates, latency, and user feedback over\n",
      "- subject: Scary-Good Soles up to 90% OFF 🎃 | sender: SHEIN <shein@email.us.shein.com>\n",
      "| id: 19964a129919d456 | Snippet: Step into spooky season with styles that slay! ‌ ‌ ‌ ‌ ‌ ‌ ‌ ‌ ‌ ‌ ‌ ‌ ‌ ‌ ‌ ‌ ‌ ‌ ‌ ‌ ‌ ‌ ‌ ‌ ‌ ‌ ‌ ‌ ‌ ‌ ‌ ‌ ‌ ‌ ‌ ‌ ‌ ‌ ‌ ‌ ‌ ‌ ‌ ‌ ‌ ‌ ‌ ‌ ‌ ‌ ‌ ‌ ‌ ‌ ‌ ‌ ‌ ‌ ‌ ‌ ‌ ‌ ‌ ‌ ‌ ‌ ‌ ‌ ‌ ‌ ‌ ‌ ‌ ‌ ‌ ‌ ‌\n",
      "- subject: 🎓 50% off just for students—the most powerful Pro yet | sender: Grammarly <hello@mail.grammarly.com>\n",
      "| id: 19961f0daf5be90b | Snippet: Unlock full access to tools built for school. ‌ ‌ ‌ ‌ ‌ ‌ ‌ ‌ ‌ ‌ ‌ ‌ ‌ ‌ ‌ ‌ ‌ ‌ ‌ ‌ ‌ ‌ ‌ ‌ ‌ ‌ ‌ ‌ ‌ ‌ ‌ ‌ ‌ ‌ ‌ ‌ ‌ ‌ ‌ ‌ ‌ ‌ ‌ ‌ ‌ ‌ ‌ ‌ ‌ ‌ ‌ ‌ ‌ ‌ ‌ ‌ ‌ ‌ ‌ ‌ ‌ ‌ ‌ ‌ ‌ ‌ ‌ ‌ ‌ ‌ ‌ ‌ ‌ ‌ ‌ ‌ ‌ ‌\n",
      "- subject: Build your own Deep Agent – New Academy Course | sender: The LangChain Team <hello@langchain.dev>\n",
      "| id: 1995dc12c18dc9ef | Snippet: Learn to build agents for complex, long-running tasks Many agents today follow the same simple pattern: run in a loop, call tools. That architecture works well enough, but it breaks down as tasks get\n",
      "- subject: (5/6) Automations for Your Production Data in LangSmith 🔄 | sender: \"Robert @ LangChain\" <noreply@langchain.com>\n",
      "| id: 1995b9f866317817 | Snippet: Once your agent is in production, managing large volumes of data can quickly become a challenge. LangSmith automations streamline this process, saving you time and delivering faster insights to help\n",
      "- subject: Your One Key updates are ready | sender: \"Expedia.com\" <mail@eg.expedia.com>\n",
      "| id: 1995a97ccce452d7 | Snippet: See your September balance + ways to earn more ‌ ‌ ‌ ‌ ‌ ‌ ‌ ‌ ‌ ‌ ‌ ‌ ‌ ‌ ‌ ‌ ‌ ‌ ‌ ‌ ‌ ‌ ‌ ‌ ‌ ‌ ‌ ‌ ‌ ‌ ‌ ‌ ‌ ‌ ‌ ‌ ‌ ‌ ‌ ‌ ‌ ‌ ‌ ‌ ‌ ‌ ‌ ‌ ‌ ‌ ‌ ‌ ‌ ‌ ‌ ‌ ‌ ‌ ‌ ‌ ‌ ‌ ‌ ‌ ‌ ‌ ‌ ‌ ‌ ‌ ‌ ‌ ‌ ‌ ‌ ‌ ‌\n",
      "- subject: Get 50% off Pro—new tools just dropped 🚀 | sender: Grammarly <hello@mail.grammarly.com>\n",
      "| id: 199579b0a06bdab7 | Snippet: Say goodbye to Sunday scaries. ‌ ‌ ‌ ‌ ‌ ‌ ‌ ‌ ‌ ‌ ‌ ‌ ‌ ‌ ‌ ‌ ‌ ‌ ‌ ‌ ‌ ‌ ‌ ‌ ‌ ‌ ‌ ‌ ‌ ‌ ‌ ‌ ‌ ‌ ‌ ‌ ‌ ‌ ‌ ‌ ‌ ‌ ‌ ‌ ‌ ‌ ‌ ‌ ‌ ‌ ‌ ‌ ‌ ‌ ‌ ‌ ‌ ‌ ‌ ‌ ‌ ‌ ‌ ‌ ‌ ‌ ‌ ‌ ‌ ‌ ‌ ‌ ‌ ‌ ‌ ‌ ‌ ‌ ‌ ‌ ‌ ‌ ‌ ‌ ‌\n",
      "- subject: Colab: Colab이 2025년 10월 14일에 갱신됨 | sender: Google Payments <payments-noreply@google.com>\n",
      "| id: 199568120ed7a6dc | Snippet: Google 갱신 알림 Colab 구독이 2025년 10월 14일에 갱신될 예정임을 알려드립니다. 그 전에 구독을 취소하지 않으면 아래에 안내된 구독 요금이 자동으로 청구됩니다. 세금은 예상 금액이며 최종 금액은 청구 시점에 계산됩니다. Google 결제 센터의 구독 및 서비스에서 언제든지 구독을 변경하거나 취소할 수 있습니다. 취소 방법 알아보기 이 이메일\n",
      "- subject: (4/6) Refining Your Agent with Annotation Queues in LangSmith ✏️ | sender: \"Robert @ LangChain\" <noreply@langchain.com>\n",
      "| id: 1995152c4c7a4e9d | Snippet: When reviewing LLM outputs, human insight is often needed to catch the subtleties that LLMs or other evaluation code might miss 🤖 That&#39;s where LangSmith&#39;s annotations come in. You can tag\n",
      "- subject: TOP PICKS💖You're Going To LOVE These… | sender: SHEIN <shein@news.emailmarket.shein.com>\n",
      "| id: 199510ce7c4bf21c | Snippet: This week&#39;s customer faves! ‌ ‌ ‌ ‌ ‌ ‌ ‌ ‌ ‌ ‌ ‌ ‌ ‌ ‌ ‌ ‌ ‌ ‌ ‌ ‌ ‌ ‌ ‌ ‌ ‌ ‌ ‌ ‌ ‌ ‌ ‌ ‌ ‌ ‌ ‌ ‌ ‌ ‌ ‌ ‌ ‌ ‌ ‌ ‌ ‌ ‌ ‌ ‌ ‌ ‌ ‌ ‌ ‌ ‌ ‌ ‌ ‌ ‌ ‌ ‌ ‌ ‌ ‌ ‌ ‌ ‌ ‌ ‌ ‌ ‌ ‌ ‌ ‌ ‌ ‌ ‌ ‌ ‌ ‌ ‌ ‌ ‌ ‌ ‌ ‌\n",
      "- subject: FW25 Has Entered the Chat 🔥 | sender: SHEIN <shein@news.emailmarket.shein.com>\n",
      "| id: 1994ea7132c01b0e | Snippet: Your wardrobe glow up starts now! ‌ ‌ ‌ ‌ ‌ ‌ ‌ ‌ ‌ ‌ ‌ ‌ ‌ ‌ ‌ ‌ ‌ ‌ ‌ ‌ ‌ ‌ ‌ ‌ ‌ ‌ ‌ ‌ ‌ ‌ ‌ ‌ ‌ ‌ ‌ ‌ ‌ ‌ ‌ ‌ ‌ ‌ ‌ ‌ ‌ ‌ ‌ ‌ ‌ ‌ ‌ ‌ ‌ ‌ ‌ ‌ ‌ ‌ ‌ ‌ ‌ ‌ ‌ ‌ ‌ ‌ ‌ ‌ ‌ ‌ ‌ ‌ ‌ ‌ ‌ ‌ ‌ ‌ ‌ ‌ ‌ ‌ ‌ ‌\n",
      "- subject: Colab: 감사합니다\n",
      " | sender: Google Payments <payments-noreply@google.com>\n",
      "| id: 199470e917435d34 | Snippet: Google 감사합니다 Colab과 연결된 상품을 구매하셨습니다. 구독 상품을 구매한 경우 payments.google.com에 로그인하여 구독 및 서비스를 선택하면 언제든지 구독을 취소하거나 관리하실 수 있습니다. 구독을 취소하거나 관리하는 데 문제가 발생하면 colab-billing@google.com으로 이메일을 보내주시기 바랍니다. 구매한 상품과\n",
      "- subject: (3/6) Getting Started with Datasets & Evaluations in LangSmith 🔍 | sender: \"Robert @ LangChain\" <noreply@langchain.com>\n",
      "| id: 199470611210b393 | Snippet: While testing is important for any software product, it&#39;s especially important for AI agents because of their non-deterministic nature. As applications get more agentic with more branches of logic,\n",
      "- subject: (2/6) Test & Tweak in LangSmith’s Playground 🛝 | sender: \"Robert @ LangChain\" <noreply@langchain.com>\n",
      "| id: 1993cb957924fbb4 | Snippet: Prompt engineering is key to building agents because the quality of a prompt directly affects an LLM&#39;s output. With the right prompts, you can ensure your agent delivers accurate, relevant, and\n",
      "- subject: Welcome to Tavily! | sender: Rotem Weiss <rotem@tavily.com>\n",
      "| id: 19932a6de01a88ad | Snippet: I&#39;m super excited to have you join our growing community Hi - welcome to Tavily! Excited to have you on board. Let&#39;s get you up and running fast. Here&#39;s everything you need to get started:\n",
      "- subject: (1/6) Welcome to LangSmith! Log Your First Trace 🎉 | sender: \"Robert @ LangChain\" <noreply@langchain.com>\n",
      "| id: 199326c9cf52563f | Snippet: Welcome to LangSmith – we&#39;re thrilled to have you here! Building AI agents is exciting, but we know it can also be hard. Getting LLMs to respond appropriately can feel more art than science at\n",
      "- subject: Welcome to the Foundation: Introduction to LangGraph Course! | sender: LangChain Academy <noreply@notify.thinkific.com>\n",
      "| id: 1993237f36317bfc | Snippet: Welcome to our Building Ambient Agents with LangGraph course! In this course, you&#39;ll learn how to build an ambient agent using LangGraph – an email assistant designed to help you manage your email.\n",
      "- subject: 지난 주의 업데이트는 공유 폴더에 있습니다. | sender: Dropbox <no-reply@dropbox.com>\n",
      "| id: 1993096f3d92ec25 | Snippet: 공유 폴더 내 활동 지난주에 공유 폴더에서 일어난 활동 202502_GECT009 2025_데과인조교일정.xlsx 배기문이(가) 추가함 월요일 2025. 9. 8. 특정한 폴더를 팔로우해 관련 업데이트 받아보기 폴더를 팔로우해 상세한 인사이트를 확인하고, 실시간으로 또는 하루에 한 번씩 알림을 받아보세요. 팔로우할 폴더 선택 주간 소식 구독을 중단하시겠어요?\n",
      "- subject: New arrivals are here | sender: SHEIN <shein@usmail.shein.com>\n",
      "| id: 1992c811fefad963 | Snippet: Shop at SHEIN for the latest trends! ‌ ‌ ‌ ‌ ‌ ‌ ‌ ‌ ‌ ‌ ‌ ‌ ‌ ‌ ‌ ‌ ‌ ‌ ‌ ‌ ‌ ‌ ‌ ‌ ‌ ‌ ‌ ‌ ‌ ‌ ‌ ‌ ‌ ‌ ‌ ‌ ‌ ‌ ‌ ‌ ‌ ‌ ‌ ‌ ‌ ‌ ‌ ‌ ‌ ‌ ‌ ‌ ‌ ‌ ‌ ‌ ‌ ‌ ‌ ‌ ‌ ‌ ‌ ‌ ‌ ‌ ‌ ‌ ‌ ‌ ‌ ‌ ‌ ‌ ‌ ‌ ‌ ‌ ‌ ‌ ‌ ‌\n",
      "- subject: [Upstage] Announcing Solar Pro2 Update & Deprecation Notice for solar-pro2-250710 | sender: Upstage Console <console@upstage.ai>\n",
      "| id: 1992c4b463d14057 | Snippet: Dear Valued Upstage User, We are writing to announce an important update to our Solar Pro2 model. Today, we are releasing a new version, solar-pro2-250909. This update resolves an issue where the\n",
      "- subject: This week's most popular picks are here 👀 | sender: SHEIN <shein@email.us.shein.com>\n",
      "| id: 1992c299dfe8fb90 | Snippet: Come and see if there&#39;s anything you want! ‌ ‌ ‌ ‌ ‌ ‌ ‌ ‌ ‌ ‌ ‌ ‌ ‌ ‌ ‌ ‌ ‌ ‌ ‌ ‌ ‌ ‌ ‌ ‌ ‌ ‌ ‌ ‌ ‌ ‌ ‌ ‌ ‌ ‌ ‌ ‌ ‌ ‌ ‌ ‌ ‌ ‌ ‌ ‌ ‌ ‌ ‌ ‌ ‌ ‌ ‌ ‌ ‌ ‌ ‌ ‌ ‌ ‌ ‌ ‌ ‌ ‌ ‌ ‌ ‌ ‌ ‌ ‌ ‌ ‌ ‌ ‌ ‌ ‌ ‌ ‌ ‌\n",
      "- subject: 안녕하세요, 박준희님. 회원님의 Dropbox 계정에서 새로운 로그인이 감지되었습니다. | sender: Dropbox <no-reply@dropbox.com>\n",
      "| id: 19927f410aaa42cf | Snippet: 안녕하세요, 박준희님 새 웹 브라우저에서 회원님의 Dropbox 계정에 방금 로그인했습니다. 계정을 안전하게 보호하기 위해 회원님이 로그인한 것이 맞는지 알려주시기 바랍니다. 회원님이 맞나요? 시간: Sep 8, 2025 at 3:12 pm (KST) 장치: Windows 상의 Chrome 예 아니요 확실하지 않음 계정 보호 방법에 대해 자세히 알아보기 감사\n",
      "- subject: Shin Seung Jun님이 ‘202502_GECT009’ 폴더를 공유했습니다. | sender: \"Shin Seung Jun (via Dropbox)\" <no-reply@dropbox.com>\n",
      "| id: 1992700e2bc3d8ff | Snippet: Shin Seung Jun(sjshin.work@gmail.com)님이 Dropbox에서 &#39;202502_GECT009&#39; 폴더를 편집할 수 있도록 회원님을 초대했습니다. &quot;데과인 조교 폴더&quot; Dropbox에 추가 더 다양한 파일 작업을 원하시나요? 데스크톱 앱과 모바일 앱을 다운로드하세요. 모바일용 Dropbox 데스크톱용\n",
      "- subject: ✅ 준희님, Apple iPhone 기기에서 최신 Google 앱 설정을 완료하세요. | sender: Google <no-reply@google.com>\n",
      "| id: 19926c67d4ffaac3 | Snippet: 설정 완료 📲 ‌ ‌ ‌ ‌ ‌ ‌ ‌ ‌ ‌ ‌ ‌ ‌ ‌ ‌ ‌ ‌ ‌ ‌ ‌ ‌ ‌ ‌ ‌ ‌ ‌ ‌ ‌ ‌ ‌ ‌ ‌ ‌ ‌ ‌ ‌ ‌ ‌ ‌ ‌ ‌ ‌ ‌ ‌ ‌ ‌ ‌ ‌ ‌ ‌ ‌ ‌ ‌ ‌ ‌ ‌ ‌ ‌ ‌ ‌ ‌ ‌ ‌ ‌ ‌ ‌ ‌ ‌ ‌ ‌ ‌ ‌ ‌ ‌ ‌ ‌ ‌ ‌ ‌ ‌ ‌ ‌ ‌ ‌ ‌ ‌ ‌ ‌ ‌ ‌ ‌ ‌ ‌ ‌ ‌ ‌ ‌ ‌\n",
      "- subject: 안녕하세요, 박준희님. 회원님의 Dropbox 계정에서 새로운 로그인이 감지되었습니다. | sender: Dropbox <no-reply@dropbox.com>\n",
      "| id: 19926c59e609b7eb | Snippet: 안녕하세요, 박준희님 새 웹 브라우저에서 회원님의 Dropbox 계정에 방금 로그인했습니다. 계정을 안전하게 보호하기 위해 회원님이 로그인한 것이 맞는지 알려주시기 바랍니다. 회원님이 맞나요? 시간: Sep 8, 2025 at 9:41 am (KST) 장치: iOS 상의 Mobile Safari 예 아니요 확실하지 않음 계정 보호 방법에 대해 자세히 알아보기\n",
      "- subject: 보안 알림 | sender: Google <no-reply@accounts.google.com>\n",
      "| id: 19926c5887f63dc3 | Snippet: Apple iPhone에서 새로 로그인함 jhpark0256@gmail.com Apple iPhone 기기에서 내 Google 계정에 새로 로그인했습니다. 직접 로그인한 것이 맞다면 아무런 조치를 취하지 않아도 됩니다. 본인이 아니라면 안내에 따라 계정을 보호하세요. 활동 확인 다음 페이지에서 보안 활동도 확인할 수 있습니다. https://myaccount\n",
      "- subject: 📣 Final days! Students get 50% off Grammarly Pro | sender: Grammarly <hello@mail.grammarly.com>\n",
      "| id: 199241ecead4ac29 | Snippet: Save on AI designed for school. ‌ ‌ ‌ ‌ ‌ ‌ ‌ ‌ ‌ ‌ ‌ ‌ ‌ ‌ ‌ ‌ ‌ ‌ ‌ ‌ ‌ ‌ ‌ ‌ ‌ ‌ ‌ ‌ ‌ ‌ ‌ ‌ ‌ ‌ ‌ ‌ ‌ ‌ ‌ ‌ ‌ ‌ ‌ ‌ ‌ ‌ ‌ ‌ ‌ ‌ ‌ ‌ ‌ ‌ ‌ ‌ ‌ ‌ ‌ ‌ ‌ ‌ ‌ ‌ ‌ ‌ ‌ ‌ ‌ ‌ ‌ ‌ ‌ ‌ ‌ ‌ ‌ ‌ ‌ ‌ ‌ ‌ ‌ ‌ ‌\n",
      "- subject: [DACON-설문] 식음업장 메뉴 수요 예측 AI 온라인 해커톤 만족도 설문 | sender: DACON Notifications <mail@dacon.io>\n",
      "| id: 19922dbf9042ae8c | Snippet: [DACON-설문] 식음업장 메뉴 수요 예측 AI 온라인 해커톤 만족도 설문 안녕하세요. &#39;식음업장 메뉴 수요 예측 AI 온라인 해커톤&#39; 참가자 여러분. 대회 기간 동안 보여주신 열정과 노력에 진심으로 감사드리며, 모든 참가자분들께 다시 한번 수고하셨다는 말씀을 전합니다. 여러분께 더 나은 경험을 제공하기 위해 만족도 설문을 실시하고자 합니다.\n",
      "- subject: Save 50% on Grammarly Pro before it’s too late | sender: Grammarly <hello@mail.grammarly.com>\n",
      "| id: 19919d3d4ef041ec | Snippet: 🎓 Unlock new AI tools that will help you put the A in GPA. ‌ ‌ ‌ ‌ ‌ ‌ ‌ ‌ ‌ ‌ ‌ ‌ ‌ ‌ ‌ ‌ ‌ ‌ ‌ ‌ ‌ ‌ ‌ ‌ ‌ ‌ ‌ ‌ ‌ ‌ ‌ ‌ ‌ ‌ ‌ ‌ ‌ ‌ ‌ ‌ ‌ ‌ ‌ ‌ ‌ ‌ ‌ ‌ ‌ ‌ ‌ ‌ ‌ ‌ ‌ ‌ ‌ ‌ ‌ ‌ ‌ ‌ ‌ ‌ ‌ ‌ ‌ ‌ ‌ ‌ ‌\n",
      "- subject: 모범적인 게스트가 되어주셔서 감사합니다! | sender: \"에어비앤비\" <automated@airbnb.com>\n",
      "| id: 199132f75bd777da | Snippet: Himari 님이 마음에 들어 한 사항을 요약한 내용을 읽어보세요. ͏ ͏ ͏ ͏ ͏ ͏ ͏ ͏ ͏ ͏ ͏ ͏ ͏ ͏ ͏ ͏ ͏ ͏ ͏ ͏ ͏ ͏ ͏ ͏ ͏ ͏ ͏ ͏ ͏ ͏ ͏ ͏ ͏ ͏ ͏ ͏ ͏ ͏ ͏ ͏ ͏ ͏ ͏ ͏ ͏ ͏ ͏ ͏ ͏ ͏ ͏ ͏ ͏ ͏ ͏ ͏ ͏ ͏ ͏ ͏ ͏ ͏ ͏ ͏ ͏ ͏ ͏ ͏ ͏ ͏ ͏ ͏ ͏ ͏ ͏ ͏ ͏ ͏ ͏ ͏ ͏ ͏\n",
      "- subject: [올리브영] 주문/결제 완료 안내 드립니다. | sender: \"올리브영\" <noreply@oliveyoung.co.kr>\n",
      "| id: 19910cd98c17c673 | Snippet: OLIVE YOUNG 주문이 정상적으로 완료되었습니다. 주문배송조회 주문 정보 주문자 박*희 주문일자 2025.09.03 주문번호 Y2509031186262 올리브영 배송상품 정보 카멕스 카멕스 모이스처라이징 립밤 체리 스틱 구매수량 : 1 개 4050원 온더바디 온더바디 발을씻자 코튼 풋샴푸 대용량 510ml 3종 택1(레몬/자몽/쿨링) 레몬 510ml\n",
      "- subject: When Life Gives You a Fall Sale, You Shop It 🛍️ | sender: SHEIN <info@news.us.shein.com>\n",
      "| id: 199101e3304bdbcd | Snippet: Enjoy FREE SHIPPING &amp; Snatch the season&#39;s best before they&#39;re history... ‌ ‌ ‌ ‌ ‌ ‌ ‌ ‌ ‌ ‌ ‌ ‌ ‌ ‌ ‌ ‌ ‌ ‌ ‌ ‌ ‌ ‌ ‌ ‌ ‌ ‌ ‌ ‌ ‌ ‌ ‌ ‌ ‌ ‌ ‌ ‌ ‌ ‌ ‌ ‌ ‌ ‌ ‌ ‌ ‌ ‌ ‌ ‌ ‌ ‌ ‌ ‌ ‌ ‌ ‌ ‌ ‌ ‌\n",
      "- subject: Grammarly Pro has a new vibe—get 50% off today 🔥 | sender: Grammarly <hello@mail.grammarly.com>\n",
      "| id: 1990f815394b179a | Snippet: Discover a smarter surface for schoolwork. ‌ ‌ ‌ ‌ ‌ ‌ ‌ ‌ ‌ ‌ ‌ ‌ ‌ ‌ ‌ ‌ ‌ ‌ ‌ ‌ ‌ ‌ ‌ ‌ ‌ ‌ ‌ ‌ ‌ ‌ ‌ ‌ ‌ ‌ ‌ ‌ ‌ ‌ ‌ ‌ ‌ ‌ ‌ ‌ ‌ ‌ ‌ ‌ ‌ ‌ ‌ ‌ ‌ ‌ ‌ ‌ ‌ ‌ ‌ ‌ ‌ ‌ ‌ ‌ ‌ ‌ ‌ ‌ ‌ ‌ ‌ ‌ ‌ ‌ ‌ ‌ ‌ ‌ ‌\n",
      "- subject: Discord 정책 개정 | sender: Discord <notifications@discord.com>\n",
      "| id: 1990cfa9b9e9964e | Snippet: 안녕하세요! Discord에서 서비스 약관, 개인정보 보호 정책, 유료 서비스 약관, 커뮤니티 지침을 업데이트할 예정임을 알려드리고자 연락을 드려요. 이번 업데이트에 따라 한창 발전 중인 Discord 비즈니스를 지원하고, 관련된 법률 변경 사항을 반영하고, 여러분이 Discord 서비스를 이용하실 때 기대할 수 있는 사항과 Discord가 여러분께 기대하는\n",
      "- subject: We’re Updating our Consumer Terms and Privacy Policy | sender: Anthropic Team <notice@email.anthropic.com>\n",
      "| id: 1990b3c41cea96c5 | Snippet: Claude Hello, We&#39;re writing to inform you about important updates to our Consumer Terms and Privacy Policy. These changes will take effect on September 28, 2025, or you can choose to accept the\n"
     ]
    }
   ],
   "source": [
    "# 이메일 전부 불러오기 - 50개 불러오는 데 23초 정도\n",
    "email_dicts = parse_emails.invoke({})"
   ]
  },
  {
   "cell_type": "code",
   "execution_count": 6,
   "id": "e334a6a2",
   "metadata": {},
   "outputs": [
    {
     "data": {
      "text/plain": [
       "{'id': '1998aa39fff81eac',\n",
       " 'subject': '이번 주 미팅 일정',\n",
       " 'sender': '\"박준희\" <jhpark0256@naver.com>',\n",
       " 'date': 'Sat, 27 Sep 2025 19:06:40 +0900',\n",
       " 'email_content': '혹시 이번 주 중으로 온라인 미팅이 가능할까요?\\n화요일 오후나 목요일 오전이 편할 것 같습니다. \\n'}"
      ]
     },
     "execution_count": 6,
     "metadata": {},
     "output_type": "execute_result"
    }
   ],
   "source": [
    "email_dicts[0]"
   ]
  },
  {
   "cell_type": "code",
   "execution_count": 7,
   "id": "1541a123",
   "metadata": {},
   "outputs": [],
   "source": [
    "def parse_query(query : str) -> ParsedQuery:\n",
    "    \"\"\"쿼리를 파싱하여 주어진 형식에 맞는 파싱 결과를 반환\"\"\"\n",
    "    from langchain_core.prompts import ChatPromptTemplate\n",
    "    from langchain.chat_models import init_chat_model\n",
    "\n",
    "    query_parser_prompt = load_prompts(\"query_parser_prompt\")\n",
    "    \n",
    "    llm_structured = init_chat_model(\"openai:gpt-4o-mini\", temperature=0.0).with_structured_output(ParsedQuery)\n",
    "\n",
    "    prompt = ChatPromptTemplate.from_messages(\n",
    "        [\n",
    "            (\"system\", query_parser_prompt['role'] + \"\\n\" + query_parser_prompt['instructions']),\n",
    "            (\"user\", query_parser_prompt[\"inputs\"].format(query = query))\n",
    "        ]\n",
    "    )\n",
    "    messages = prompt.format_messages(query = query)\n",
    "    response = llm_structured.invoke(messages)\n",
    "\n",
    "    return response"
   ]
  },
  {
   "cell_type": "code",
   "execution_count": 8,
   "id": "394fa94e",
   "metadata": {},
   "outputs": [
    {
     "data": {
      "text/plain": [
       "ParsedQuery(email_content=['어제 왔던 미팅 관련 메일'], when='어제', sender=None)"
      ]
     },
     "execution_count": 8,
     "metadata": {},
     "output_type": "execute_result"
    }
   ],
   "source": [
    "# 1분 정도 소요\n",
    "query = \"어제 왔던 미팅 관련 메일 찾아줘.\"\n",
    "parsed_query = parse_query(query)\n",
    "parsed_query"
   ]
  },
  {
   "cell_type": "code",
   "execution_count": null,
   "id": "efb375f1",
   "metadata": {},
   "outputs": [],
   "source": [
    "from typing import List, Dict, Optional, Literal\n",
    "\n",
    "def fetch_email(parsed_query: ParsedQuery, email_dicts: List[dict]) -> EmailFetchOutput:\n",
    "    \"\"\"파싱된 쿼리를 사용하여 관련 이메일 찾아서 반환 + 수동 메시지 생성\"\"\"\n",
    "    from langchain.chat_models import init_chat_model\n",
    "    from langchain_core.messages import SystemMessage, HumanMessage\n",
    "\n",
    "    fetching_email_prompt = load_prompts(\"fetching_email_prompt\")\n",
    "    \n",
    "    # 이메일 포맷팅\n",
    "    formatted_emails = []\n",
    "    for email in email_dicts:\n",
    "        formatted_email = {\n",
    "            \"id\": email[\"id\"],\n",
    "            \"subject\": email[\"subject\"], \n",
    "            \"sender\": email[\"sender\"],\n",
    "            \"date\": email[\"date\"],\n",
    "            \"content\": email[\"content\"][:200] + \"...\" if len(email[\"content\"]) > 200 else email[\"content\"]\n",
    "        }\n",
    "        formatted_emails.append(formatted_email)\n",
    "    \n",
    "    # 메시지 수동 생성\n",
    "    system_content = fetching_email_prompt['role'] + \"\\n\" + fetching_email_prompt['instructions']\n",
    "    user_content = fetching_email_prompt[\"inputs\"].format(\n",
    "        parsed_query=parsed_query.model_dump(), \n",
    "        emails=formatted_emails\n",
    "    )\n",
    "    \n",
    "    messages = [\n",
    "        SystemMessage(content=system_content),\n",
    "        HumanMessage(content=user_content)\n",
    "    ]\n",
    "    \n",
    "    # LLM 호출\n",
    "    llm_structured = init_chat_model(\"openai:gpt-4o-mini\", temperature=0.0).with_structured_output(EmailFetchOutput)\n",
    "    response = llm_structured.invoke(messages)\n",
    "\n",
    "    return response"
   ]
  },
  {
   "cell_type": "code",
   "execution_count": 30,
   "id": "3a0026bd",
   "metadata": {},
   "outputs": [
    {
     "name": "stdout",
     "output_type": "stream",
     "text": [
      "Fetched Email: id='1998aa39fff81eac' subject='이번 주 미팅 일정' sender='\"박준희\" <jhpark0256@naver.com>' date='Sat, 27 Sep 2025 19:06:40 +0900' email_content='혹시 이번 주 중으로 온라인 미팅이 가능할까요?\\n화요일 오후나 목요일 오전이 편할 것 같습니다. \\n' reasoning=\"이 이메일은 어제(2025년 9월 27일) 보낸 미팅 관련 메일로, 요청한 내용과 가장 관련이 깊습니다. '어제'라는 시간적 제약과 '미팅'이라는 키워드가 포함되어 있어, 요청한 내용과 일치합니다.\"\n"
     ]
    }
   ],
   "source": [
    "fetched_email = fetch_email(parsed_query, email_dicts)\n",
    "print(\"Fetched Email:\", fetched_email)"
   ]
  },
  {
   "cell_type": "code",
   "execution_count": null,
   "id": "f76e542e",
   "metadata": {},
   "outputs": [],
   "source": [
    "from langgraph.types import Command"
   ]
  }
 ],
 "metadata": {
  "kernelspec": {
   "display_name": ".venv",
   "language": "python",
   "name": "python3"
  },
  "language_info": {
   "codemirror_mode": {
    "name": "ipython",
    "version": 3
   },
   "file_extension": ".py",
   "mimetype": "text/x-python",
   "name": "python",
   "nbconvert_exporter": "python",
   "pygments_lexer": "ipython3",
   "version": "3.12.3"
  }
 },
 "nbformat": 4,
 "nbformat_minor": 5
}
